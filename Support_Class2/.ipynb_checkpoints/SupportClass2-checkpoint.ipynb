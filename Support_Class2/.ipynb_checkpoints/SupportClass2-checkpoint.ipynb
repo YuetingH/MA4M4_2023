{
 "cells": [
  {
   "cell_type": "markdown",
   "id": "7be32fe9",
   "metadata": {
    "toc": true
   },
   "source": [
    "<h1>Table of Contents<span class=\"tocSkip\"></span></h1>\n",
    "<div class=\"toc\"><ul class=\"toc-item\"><li><span><a href=\"#Dataset\" data-toc-modified-id=\"Dataset-1\"><span class=\"toc-item-num\">1&nbsp;&nbsp;</span>Dataset</a></span><ul class=\"toc-item\"><li><span><a href=\"#Import-the-Dataset\" data-toc-modified-id=\"Import-the-Dataset-1.1\"><span class=\"toc-item-num\">1.1&nbsp;&nbsp;</span>Import the Dataset</a></span></li><li><span><a href=\"#Basic-Observations\" data-toc-modified-id=\"Basic-Observations-1.2\"><span class=\"toc-item-num\">1.2&nbsp;&nbsp;</span>Basic Observations</a></span></li><li><span><a href=\"#Construct-Networks\" data-toc-modified-id=\"Construct-Networks-1.3\"><span class=\"toc-item-num\">1.3&nbsp;&nbsp;</span>Construct Networks</a></span></li></ul></li><li><span><a href=\"#Community-Structure---Modularity-Maximisation\" data-toc-modified-id=\"Community-Structure---Modularity-Maximisation-2\"><span class=\"toc-item-num\">2&nbsp;&nbsp;</span>Community Structure - Modularity Maximisation</a></span><ul class=\"toc-item\"><li><span><a href=\"#Primary-Function-from-NetworkX\" data-toc-modified-id=\"Primary-Function-from-NetworkX-2.1\"><span class=\"toc-item-num\">2.1&nbsp;&nbsp;</span>Primary Function from NetworkX</a></span></li><li><span><a href=\"#Result-Visualisation-through-the-Permuted-Adjacency-Matrix\" data-toc-modified-id=\"Result-Visualisation-through-the-Permuted-Adjacency-Matrix-2.2\"><span class=\"toc-item-num\">2.2&nbsp;&nbsp;</span>Result Visualisation through the Permuted Adjacency Matrix</a></span></li><li><span><a href=\"#Robustness-Assessment\" data-toc-modified-id=\"Robustness-Assessment-2.3\"><span class=\"toc-item-num\">2.3&nbsp;&nbsp;</span>Robustness Assessment</a></span><ul class=\"toc-item\"><li><span><a href=\"#Compute-Association-Matrix\" data-toc-modified-id=\"Compute-Association-Matrix-2.3.1\"><span class=\"toc-item-num\">2.3.1&nbsp;&nbsp;</span>Compute Association Matrix</a></span></li><li><span><a href=\"#Compute-NMI-Matrix\" data-toc-modified-id=\"Compute-NMI-Matrix-2.3.2\"><span class=\"toc-item-num\">2.3.2&nbsp;&nbsp;</span>Compute NMI Matrix</a></span></li></ul></li><li><span><a href=\"#Code-Documentation-[Optional]\" data-toc-modified-id=\"Code-Documentation-[Optional]-2.4\"><span class=\"toc-item-num\">2.4&nbsp;&nbsp;</span>Code Documentation [Optional]</a></span></li></ul></li><li><span><a href=\"#Questions\" data-toc-modified-id=\"Questions-3\"><span class=\"toc-item-num\">3&nbsp;&nbsp;</span>Questions</a></span></li></ul></div>"
   ]
  },
  {
   "cell_type": "code",
   "execution_count": 1,
   "id": "4ecb714d",
   "metadata": {},
   "outputs": [],
   "source": [
    "import networkx as nx\n",
    "\n",
    "import pandas as pd\n",
    "import numpy as np\n",
    "import matplotlib.pyplot as plt\n",
    "\n",
    "# This will filter warnings, which can be lengthy but sometimes useful. You may comment it out if you want to see them.\n",
    "import warnings\n",
    "warnings.filterwarnings('ignore')"
   ]
  },
  {
   "cell_type": "markdown",
   "id": "43bb6bbd",
   "metadata": {},
   "source": [
    "# Dataset"
   ]
  },
  {
   "cell_type": "markdown",
   "id": "b7ea5312",
   "metadata": {},
   "source": [
    "**This dataset contains the *temporal network* of contacts between individuals measured in an office building in France, from *June 24 to July 5, 2013*.** This network was described and analysed in the publication [“Data on face-to-face contacts in an office building suggest a low-cost vaccination strategy based on community linkers”](https://www.cambridge.org/core/journals/network-science/article/data-on-facetoface-contacts-in-an-office-building-suggest-a-lowcost-vaccination-strategy-based-on-community-linkers/18AB49AB4F2AEA33CE7501F06ADBC8E8) by M. Génois et al., published as Network Science 3, 326 (2015). The dataset is open available on the [SocioPatterns](http://www.sociopatterns.org/datasets/contacts-in-a-workplace/) website.\n",
    "\n",
    "**The dataset comprises two files.** The first one contains a tab-separated list representing the active contacts during 20-second intervals of the data collection. Each line has the form “t i j”, where i and j are the anonymous IDs of the persons in contact, and the interval during which this contact was active is [ t – 20s, t ] (t is expressed in seconds since the time origin taken as 0:00 on June 24, 2013). The second file contains a list of the form “i Di” where i is the anonymous ID of an individual and Di the name of his/her department in the workplace. **For simplicity, we will only consider the first file in this class.**"
   ]
  },
  {
   "cell_type": "markdown",
   "id": "46a11800",
   "metadata": {},
   "source": [
    "## Import the Dataset"
   ]
  },
  {
   "cell_type": "markdown",
   "id": "ad30b3f1",
   "metadata": {},
   "source": [
    "Datasets may not always be documented in a way that enables us to read and construct networks directly using ```nx.read_edgelist``` (as demonstrated in the previous support class). For instance, we need to consider an additional attribute \"timestamp\" in this dataset. **Therefore, a more general way of processing datasets is employed here.**\n",
    "\n",
    "*Tip: It is importent to figure out how a dataset is documented (e.g., storage format, network type). Checking the original file of a dataset can be helpful if it can be directly read.*  "
   ]
  },
  {
   "cell_type": "code",
   "execution_count": 2,
   "id": "3f8a10f6",
   "metadata": {},
   "outputs": [],
   "source": [
    "data = np.loadtxt('data.dat', dtype='int')"
   ]
  },
  {
   "cell_type": "markdown",
   "id": "1ed5064a",
   "metadata": {},
   "source": [
    "## Basic Observations"
   ]
  },
  {
   "cell_type": "markdown",
   "id": "3cd92677",
   "metadata": {},
   "source": [
    "As we can see below, this file is organised in **an ascending order of timestamps** (first column). "
   ]
  },
  {
   "cell_type": "code",
   "execution_count": 3,
   "id": "d019b41e",
   "metadata": {},
   "outputs": [
    {
     "data": {
      "text/plain": [
       "array([[  28820,     492,     938],\n",
       "       [  28860,     267,     272],\n",
       "       [  29300,     181,     826],\n",
       "       ...,\n",
       "       [1015440,     150,     601],\n",
       "       [1016420,     150,     601],\n",
       "       [1016440,     150,     601]])"
      ]
     },
     "execution_count": 3,
     "metadata": {},
     "output_type": "execute_result"
    }
   ],
   "source": [
    "data"
   ]
  },
  {
   "cell_type": "code",
   "execution_count": 4,
   "id": "40e553c0",
   "metadata": {},
   "outputs": [
    {
     "data": {
      "text/plain": [
       "(9827, 3)"
      ]
     },
     "execution_count": 4,
     "metadata": {},
     "output_type": "execute_result"
    }
   ],
   "source": [
    "np.shape(data)"
   ]
  },
  {
   "cell_type": "markdown",
   "id": "c263acc1",
   "metadata": {},
   "source": [
    "- **Timestamps**"
   ]
  },
  {
   "cell_type": "markdown",
   "id": "a81d3f1d",
   "metadata": {},
   "source": [
    "The dataset covers a period of **12 days**, from June 24 to July 5, 2013, and the timestamps in the dataset are **in seconds**. There are a total of **7104 unique timestamps** in the dataset, ranging from 28820 to 1016440, which covers almost the entire 12-day period (as confirmed in the previous description)."
   ]
  },
  {
   "cell_type": "code",
   "execution_count": 5,
   "id": "abc85305",
   "metadata": {},
   "outputs": [],
   "source": [
    "time = data[:, 0] # time column"
   ]
  },
  {
   "cell_type": "code",
   "execution_count": 6,
   "id": "86dbebd0",
   "metadata": {},
   "outputs": [
    {
     "data": {
      "text/plain": [
       "7104"
      ]
     },
     "execution_count": 6,
     "metadata": {},
     "output_type": "execute_result"
    }
   ],
   "source": [
    "len(set(time)) # the number of timestamps"
   ]
  },
  {
   "cell_type": "code",
   "execution_count": 7,
   "id": "0daa64d7",
   "metadata": {},
   "outputs": [
    {
     "data": {
      "text/plain": [
       "(28820, 1016440)"
      ]
     },
     "execution_count": 7,
     "metadata": {},
     "output_type": "execute_result"
    }
   ],
   "source": [
    "min(time), max(time) # the range of timestamps"
   ]
  },
  {
   "cell_type": "code",
   "execution_count": 8,
   "id": "ea0bfe35",
   "metadata": {},
   "outputs": [
    {
     "data": {
      "text/plain": [
       "11.430787037037037"
      ]
     },
     "execution_count": 8,
     "metadata": {},
     "output_type": "execute_result"
    }
   ],
   "source": [
    "(1016440 - 28820) / (60*60*24) # check how many days covered"
   ]
  },
  {
   "cell_type": "markdown",
   "id": "d74c0773",
   "metadata": {},
   "source": [
    "- **Individuals**"
   ]
  },
  {
   "cell_type": "markdown",
   "id": "2734ac6a",
   "metadata": {},
   "source": [
    "There are a total of **92 individuals** involved in this dataset, as confirmed in the [second file](http://www.sociopatterns.org/wp-content/uploads/2016/06/metadata_InVS13.txt) of the dataset where the department of each individual is specified. Each individual is represented by a unique ID number, ranging from 15 to 987. "
   ]
  },
  {
   "cell_type": "code",
   "execution_count": 9,
   "id": "33ac8e09",
   "metadata": {},
   "outputs": [],
   "source": [
    "individuals = np.concatenate((data[:, 1], data[:, 2])) # individuals involved in two columns"
   ]
  },
  {
   "cell_type": "code",
   "execution_count": 10,
   "id": "01293fd0",
   "metadata": {},
   "outputs": [
    {
     "data": {
      "text/plain": [
       "92"
      ]
     },
     "execution_count": 10,
     "metadata": {},
     "output_type": "execute_result"
    }
   ],
   "source": [
    "len(set(individuals)) # the number of unique individuals"
   ]
  },
  {
   "cell_type": "code",
   "execution_count": 11,
   "id": "86dead32",
   "metadata": {},
   "outputs": [
    {
     "data": {
      "text/plain": [
       "(15, 987)"
      ]
     },
     "execution_count": 11,
     "metadata": {},
     "output_type": "execute_result"
    }
   ],
   "source": [
    "min(individuals), max(individuals) # the range of IDs"
   ]
  },
  {
   "cell_type": "markdown",
   "id": "141c07a0",
   "metadata": {},
   "source": [
    "- **Contact Links**"
   ]
  },
  {
   "cell_type": "markdown",
   "id": "b9329220",
   "metadata": {},
   "source": [
    "The dataset comprises a total of **9827 contact links**, each of which is constructed only if the contact is active during the specified 20-second interval. \n",
    "\n",
    "It is important to note that \"contact\" is an action without direction, therefore each contact link is considered **undirected**. The individual ID in the second column is always prescribed to be smaller than the third column.\n",
    "\n",
    "It is worth mentioning that in reality, two individuals may remain in continuous contact for a longer duration than 20 seconds. For example, the last two columns in this dataset indicate that individuals 150 and 601 were in contact for (at least) 40 seconds, leading to the construction of two contact links."
   ]
  },
  {
   "cell_type": "code",
   "execution_count": 12,
   "id": "bc28d738",
   "metadata": {},
   "outputs": [
    {
     "data": {
      "text/plain": [
       "(9827, 3)"
      ]
     },
     "execution_count": 12,
     "metadata": {},
     "output_type": "execute_result"
    }
   ],
   "source": [
    "np.shape(data)"
   ]
  },
  {
   "cell_type": "code",
   "execution_count": 13,
   "id": "db62173e",
   "metadata": {},
   "outputs": [
    {
     "data": {
      "text/plain": [
       "True"
      ]
     },
     "execution_count": 13,
     "metadata": {},
     "output_type": "execute_result"
    }
   ],
   "source": [
    "np.all(data[:, 1] < data[:, 2])"
   ]
  },
  {
   "cell_type": "code",
   "execution_count": 14,
   "id": "f5bb2c0a",
   "metadata": {},
   "outputs": [
    {
     "data": {
      "text/plain": [
       "array([[1016420,     150,     601],\n",
       "       [1016440,     150,     601]])"
      ]
     },
     "execution_count": 14,
     "metadata": {},
     "output_type": "execute_result"
    }
   ],
   "source": [
    "data[-2:]"
   ]
  },
  {
   "cell_type": "markdown",
   "id": "789d8cc5",
   "metadata": {},
   "source": [
    "## Construct Networks"
   ]
  },
  {
   "cell_type": "markdown",
   "id": "dc989a71",
   "metadata": {},
   "source": [
    "There are usually multiple ways to represent a dataset as networks. Intuitively, the original dataset can be described as a single undirected network with multi-edges where each edge is attributed with a timestamp. However, for the purpose of this class, we reorganize the dataset and represent it as **three temporal undirected weighted networks withi no multi-edges**.\n",
    "\n",
    "We divide the period of this dataset (12 days) into three parts, represented by three temporal networks separately. Each network describes contacts between individuals aggregated in each part (4 days). The weight of each edge indicates how many times a pair of individuals is detected in contact during a 20-second interval and is represented by a positive integer."
   ]
  },
  {
   "cell_type": "markdown",
   "id": "a6c6ddee",
   "metadata": {},
   "source": [
    "1. Divide the dataset into three parts. \n",
    "\n",
    "    The dataset appears unbalanced for the second part, potentially because two days during the weekend are included within it (see 2013 calendar [here](https://www.timeanddate.com/calendar/?year=2013&country=9))."
   ]
  },
  {
   "cell_type": "code",
   "execution_count": 15,
   "id": "349e65c3",
   "metadata": {},
   "outputs": [],
   "source": [
    "def divide_dataset(data):\n",
    "    '''\n",
    "    Input: \n",
    "        data: the original dataset (12 days)\n",
    "    Output: \n",
    "        data_list: a list of three partitioned datasets (4 days each)\n",
    "    '''\n",
    "    \n",
    "    data1, data2, data3 = [], [], []\n",
    "    time_division = [60*60*24 * 4, 60*60*24 * 8]\n",
    "    \n",
    "    for contact in data:\n",
    "        contact = np.array(contact)\n",
    "        if contact[0] < time_division[0]:\n",
    "            data1.append(contact)\n",
    "        elif contact[0] < time_division[1]:\n",
    "            data2.append(contact)\n",
    "        else:\n",
    "            data3.append(contact)\n",
    "    \n",
    "    data_list = [np.array(data1), np.array(data2), np.array(data3)]\n",
    "    \n",
    "    return data_list"
   ]
  },
  {
   "cell_type": "code",
   "execution_count": 16,
   "id": "ce0fad1f",
   "metadata": {},
   "outputs": [],
   "source": [
    "data_list = divide_dataset(data)"
   ]
  },
  {
   "cell_type": "code",
   "execution_count": 17,
   "id": "ba8c7faf",
   "metadata": {},
   "outputs": [
    {
     "data": {
      "text/plain": [
       "(3994, 1647, 4186)"
      ]
     },
     "execution_count": 17,
     "metadata": {},
     "output_type": "execute_result"
    }
   ],
   "source": [
    "len(data_list[0]), len(data_list[1]), len(data_list[2])"
   ]
  },
  {
   "cell_type": "markdown",
   "id": "f2a36311",
   "metadata": {},
   "source": [
    "2. For each partitioned dataset, reorganise every edge into the form of tuple: \"(ID1, ID2, weight)\"."
   ]
  },
  {
   "cell_type": "code",
   "execution_count": 18,
   "id": "e182ffb7",
   "metadata": {},
   "outputs": [],
   "source": [
    "from collections import Counter\n",
    "\n",
    "def process_dataset(data_list):\n",
    "    '''\n",
    "    Input: \n",
    "        data_list: a list of three partitioned datasets\n",
    "    Output: \n",
    "        data_tuple: a list of three preprocessed datasets in the form of tuple: (ID1, ID2, weight). \n",
    "    '''\n",
    "    \n",
    "    data_tuple = []\n",
    "    \n",
    "    for data_p in data_list:\n",
    "        pairs = list(zip(data_p[:, 1],data_p[:, 2])) # create a list of pairs: (ID1, ID2) to represent each contact\n",
    "        dict_pairs = dict(Counter(pairs)) # count the occurance of each pair; in the form of dictionary: \"(ID1, ID2): count\"\n",
    "        tuple_pairs = [(k[0], k[1], dict_pairs[k]) for k in dict_pairs.keys()] # reorganise into tuples\n",
    "        \n",
    "        data_tuple.append(tuple_pairs)\n",
    "    \n",
    "    return data_tuple"
   ]
  },
  {
   "cell_type": "code",
   "execution_count": 19,
   "id": "7f5f3f20",
   "metadata": {},
   "outputs": [],
   "source": [
    "data_tuple = process_dataset(data_list)"
   ]
  },
  {
   "cell_type": "code",
   "execution_count": 20,
   "id": "d0dedb14",
   "metadata": {},
   "outputs": [
    {
     "data": {
      "text/plain": [
       "[(492, 938, 1),\n",
       " (267, 272, 1),\n",
       " (181, 826, 1),\n",
       " (79, 181, 1),\n",
       " (150, 196, 1),\n",
       " (21, 150, 4),\n",
       " (21, 205, 2),\n",
       " (448, 826, 1),\n",
       " (765, 826, 1),\n",
       " (39, 253, 1),\n",
       " (80, 253, 1),\n",
       " (123, 845, 13),\n",
       " (118, 311, 6),\n",
       " (95, 118, 6),\n",
       " (80, 95, 1),\n",
       " (95, 311, 92),\n",
       " (80, 118, 1),\n",
       " (118, 771, 2),\n",
       " (95, 771, 3),\n",
       " (311, 771, 2),\n",
       " (153, 205, 1),\n",
       " (164, 311, 1),\n",
       " (21, 179, 2),\n",
       " (311, 481, 1),\n",
       " (79, 122, 1),\n",
       " (39, 120, 22),\n",
       " (122, 448, 4),\n",
       " (120, 819, 29),\n",
       " (431, 778, 4),\n",
       " (271, 601, 45),\n",
       " (15, 95, 45),\n",
       " (56, 194, 4),\n",
       " (194, 786, 11),\n",
       " (194, 311, 27),\n",
       " (311, 786, 6),\n",
       " (95, 205, 4),\n",
       " (21, 603, 1),\n",
       " (205, 311, 7),\n",
       " (95, 123, 70),\n",
       " (150, 271, 20),\n",
       " (311, 496, 57),\n",
       " (21, 431, 1),\n",
       " (79, 275, 1),\n",
       " (222, 267, 72),\n",
       " (50, 179, 1),\n",
       " (150, 601, 2),\n",
       " (120, 172, 20),\n",
       " (271, 448, 1),\n",
       " (29, 271, 1),\n",
       " (120, 223, 1),\n",
       " (116, 123, 1),\n",
       " (29, 95, 14),\n",
       " (123, 253, 71),\n",
       " (79, 253, 1),\n",
       " (285, 762, 7),\n",
       " (150, 762, 5),\n",
       " (29, 79, 1),\n",
       " (116, 826, 1),\n",
       " (63, 481, 172),\n",
       " (762, 771, 15),\n",
       " (56, 939, 9),\n",
       " (50, 335, 4),\n",
       " (778, 826, 3),\n",
       " (223, 496, 65),\n",
       " (29, 56, 6),\n",
       " (95, 819, 1),\n",
       " (116, 778, 3),\n",
       " (105, 113, 123),\n",
       " (172, 311, 15),\n",
       " (120, 311, 2),\n",
       " (113, 513, 4),\n",
       " (119, 275, 12),\n",
       " (119, 335, 7),\n",
       " (105, 513, 7),\n",
       " (50, 771, 22),\n",
       " (15, 29, 2),\n",
       " (95, 194, 27),\n",
       " (150, 154, 14),\n",
       " (494, 765, 6),\n",
       " (48, 209, 8),\n",
       " (80, 222, 20),\n",
       " (17, 48, 3),\n",
       " (179, 209, 2),\n",
       " (17, 179, 4),\n",
       " (17, 209, 2),\n",
       " (66, 209, 5),\n",
       " (17, 66, 9),\n",
       " (196, 223, 28),\n",
       " (66, 196, 1),\n",
       " (223, 819, 24),\n",
       " (17, 102, 7),\n",
       " (39, 205, 9),\n",
       " (196, 819, 4),\n",
       " (48, 66, 33),\n",
       " (80, 765, 23),\n",
       " (66, 102, 7),\n",
       " (21, 66, 22),\n",
       " (102, 179, 4),\n",
       " (21, 48, 6),\n",
       " (205, 496, 23),\n",
       " (48, 134, 1),\n",
       " (134, 209, 1),\n",
       " (240, 275, 1),\n",
       " (134, 240, 4),\n",
       " (240, 285, 3),\n",
       " (134, 496, 2),\n",
       " (134, 285, 13),\n",
       " (80, 311, 5),\n",
       " (63, 271, 1),\n",
       " (222, 496, 2),\n",
       " (39, 113, 28),\n",
       " (80, 494, 4),\n",
       " (105, 275, 1),\n",
       " (113, 242, 5),\n",
       " (113, 194, 8),\n",
       " (79, 804, 4),\n",
       " (267, 311, 22),\n",
       " (205, 267, 15),\n",
       " (123, 164, 1),\n",
       " (66, 179, 1),\n",
       " (267, 496, 12),\n",
       " (48, 804, 1),\n",
       " (511, 804, 13),\n",
       " (179, 222, 2),\n",
       " (48, 179, 5),\n",
       " (66, 804, 1),\n",
       " (17, 21, 2),\n",
       " (275, 804, 16),\n",
       " (102, 271, 1),\n",
       " (102, 601, 1),\n",
       " (79, 311, 1),\n",
       " (48, 80, 1),\n",
       " (804, 826, 3),\n",
       " (778, 804, 3),\n",
       " (209, 285, 1),\n",
       " (79, 102, 1),\n",
       " (223, 267, 5),\n",
       " (285, 875, 14),\n",
       " (222, 223, 3),\n",
       " (184, 267, 1),\n",
       " (275, 875, 1),\n",
       " (184, 804, 10),\n",
       " (102, 240, 2),\n",
       " (21, 209, 2),\n",
       " (119, 875, 1),\n",
       " (79, 95, 2),\n",
       " (95, 181, 1),\n",
       " (39, 267, 2),\n",
       " (95, 786, 1),\n",
       " (50, 102, 1),\n",
       " (223, 311, 12),\n",
       " (765, 786, 64),\n",
       " (119, 762, 7),\n",
       " (17, 771, 4),\n",
       " (448, 499, 2),\n",
       " (50, 875, 3),\n",
       " (335, 511, 1),\n",
       " (120, 494, 165),\n",
       " (29, 222, 3),\n",
       " (268, 845, 5),\n",
       " (17, 762, 5),\n",
       " (134, 762, 6),\n",
       " (184, 778, 51),\n",
       " (116, 762, 5),\n",
       " (80, 762, 1),\n",
       " (275, 762, 1),\n",
       " (63, 154, 4),\n",
       " (116, 481, 2),\n",
       " (762, 875, 4),\n",
       " (63, 105, 2),\n",
       " (185, 778, 10),\n",
       " (184, 268, 47),\n",
       " (184, 185, 2),\n",
       " (113, 223, 1),\n",
       " (205, 223, 9),\n",
       " (15, 496, 4),\n",
       " (95, 496, 2),\n",
       " (285, 481, 3),\n",
       " (240, 938, 5),\n",
       " (150, 285, 2),\n",
       " (184, 845, 9),\n",
       " (184, 826, 1),\n",
       " (223, 253, 1),\n",
       " (120, 765, 14),\n",
       " (15, 123, 16),\n",
       " (95, 253, 3),\n",
       " (39, 804, 1),\n",
       " (172, 196, 8),\n",
       " (80, 771, 2),\n",
       " (39, 819, 2),\n",
       " (448, 533, 7),\n",
       " (492, 601, 32),\n",
       " (79, 222, 17),\n",
       " (826, 987, 1),\n",
       " (123, 492, 1),\n",
       " (48, 875, 2),\n",
       " (39, 95, 2),\n",
       " (95, 242, 1),\n",
       " (267, 603, 2),\n",
       " (164, 267, 3),\n",
       " (80, 875, 1),\n",
       " (102, 335, 4),\n",
       " (271, 533, 7),\n",
       " (210, 778, 1),\n",
       " (35, 210, 5),\n",
       " (150, 533, 22),\n",
       " (50, 131, 11),\n",
       " (119, 778, 1),\n",
       " (123, 223, 55),\n",
       " (778, 845, 6),\n",
       " (119, 448, 20),\n",
       " (271, 499, 3),\n",
       " (116, 335, 5),\n",
       " (131, 242, 2),\n",
       " (119, 211, 1),\n",
       " (120, 196, 11),\n",
       " (131, 150, 18),\n",
       " (511, 762, 1),\n",
       " (131, 271, 1),\n",
       " (131, 185, 1),\n",
       " (271, 492, 14),\n",
       " (211, 268, 1),\n",
       " (511, 771, 2),\n",
       " (209, 875, 1),\n",
       " (154, 939, 1),\n",
       " (335, 771, 19),\n",
       " (95, 120, 25),\n",
       " (119, 804, 6),\n",
       " (131, 778, 2),\n",
       " (335, 762, 23),\n",
       " (131, 751, 1),\n",
       " (80, 826, 1),\n",
       " (79, 826, 1),\n",
       " (271, 481, 1),\n",
       " (196, 311, 10),\n",
       " (265, 751, 24),\n",
       " (56, 265, 1),\n",
       " (751, 778, 11),\n",
       " (56, 205, 7),\n",
       " (95, 223, 3),\n",
       " (153, 492, 67),\n",
       " (56, 819, 8),\n",
       " (210, 826, 1),\n",
       " (17, 496, 1),\n",
       " (120, 267, 1),\n",
       " (448, 939, 1),\n",
       " (80, 153, 1),\n",
       " (209, 210, 1),\n",
       " (39, 79, 6),\n",
       " (153, 271, 196),\n",
       " (63, 116, 47),\n",
       " (120, 205, 1),\n",
       " (56, 786, 2),\n",
       " (196, 222, 2),\n",
       " (222, 311, 2),\n",
       " (116, 222, 1),\n",
       " (222, 431, 1),\n",
       " (123, 172, 2),\n",
       " (63, 499, 4),\n",
       " (265, 335, 1),\n",
       " (118, 804, 2),\n",
       " (80, 335, 2),\n",
       " (265, 826, 32),\n",
       " (751, 804, 9),\n",
       " (268, 804, 5),\n",
       " (268, 751, 14),\n",
       " (154, 285, 1),\n",
       " (267, 939, 2),\n",
       " (275, 335, 4),\n",
       " (771, 784, 1),\n",
       " (762, 784, 2),\n",
       " (265, 804, 2),\n",
       " (804, 938, 9),\n",
       " (222, 826, 2),\n",
       " (154, 499, 2),\n",
       " (95, 265, 3),\n",
       " (185, 265, 19),\n",
       " (35, 845, 1),\n",
       " (153, 154, 13),\n",
       " (102, 762, 2),\n",
       " (17, 875, 1),\n",
       " (17, 335, 9),\n",
       " (311, 819, 4),\n",
       " (205, 819, 2),\n",
       " (150, 481, 3),\n",
       " (496, 819, 3),\n",
       " (118, 209, 2),\n",
       " (131, 826, 3),\n",
       " (35, 826, 1),\n",
       " (153, 987, 1),\n",
       " (15, 223, 8),\n",
       " (194, 242, 1),\n",
       " (154, 271, 6),\n",
       " (153, 499, 2),\n",
       " (154, 492, 7),\n",
       " (242, 311, 2),\n",
       " (275, 285, 1),\n",
       " (79, 285, 1),\n",
       " (119, 533, 39),\n",
       " (29, 120, 4),\n",
       " (79, 123, 24),\n",
       " (211, 778, 31),\n",
       " (273, 778, 28),\n",
       " (268, 778, 2),\n",
       " (113, 120, 2),\n",
       " (29, 39, 24),\n",
       " (211, 265, 4),\n",
       " (184, 265, 7),\n",
       " (29, 662, 5),\n",
       " (481, 709, 10),\n",
       " (50, 826, 1),\n",
       " (131, 184, 1),\n",
       " (150, 209, 1),\n",
       " (150, 709, 11),\n",
       " (118, 268, 1),\n",
       " (209, 804, 3),\n",
       " (118, 184, 11),\n",
       " (275, 845, 5),\n",
       " (153, 709, 7),\n",
       " (804, 845, 10),\n",
       " (153, 448, 2),\n",
       " (211, 222, 1),\n",
       " (17, 101, 2),\n",
       " (116, 211, 8),\n",
       " (116, 265, 4),\n",
       " (35, 804, 1),\n",
       " (17, 50, 4),\n",
       " (95, 116, 1),\n",
       " (21, 101, 8),\n",
       " (184, 751, 69),\n",
       " (63, 709, 47),\n",
       " (205, 939, 7),\n",
       " (150, 153, 1),\n",
       " (153, 601, 11),\n",
       " (179, 335, 1),\n",
       " (50, 209, 3),\n",
       " (21, 80, 1),\n",
       " (311, 662, 10),\n",
       " (80, 662, 1),\n",
       " (496, 662, 3),\n",
       " (50, 265, 2),\n",
       " (662, 826, 1),\n",
       " (311, 826, 1),\n",
       " (662, 771, 1),\n",
       " (662, 751, 1),\n",
       " (311, 335, 2),\n",
       " (101, 662, 1),\n",
       " (751, 826, 1),\n",
       " (209, 751, 1),\n",
       " (222, 601, 3),\n",
       " (116, 709, 6),\n",
       " (179, 875, 2),\n",
       " (481, 499, 1),\n",
       " (448, 492, 1),\n",
       " (492, 499, 1),\n",
       " (153, 481, 1),\n",
       " (63, 153, 3),\n",
       " (63, 601, 3),\n",
       " (63, 150, 1),\n",
       " (265, 875, 1),\n",
       " (29, 116, 1),\n",
       " (63, 95, 1),\n",
       " (268, 826, 2),\n",
       " (275, 826, 1),\n",
       " (116, 150, 1),\n",
       " (123, 222, 5),\n",
       " (172, 819, 1),\n",
       " (29, 513, 1),\n",
       " (95, 222, 3),\n",
       " (102, 131, 2),\n",
       " (35, 273, 1),\n",
       " (150, 499, 3),\n",
       " (779, 819, 1),\n",
       " (819, 987, 3),\n",
       " (153, 533, 2),\n",
       " (50, 311, 7),\n",
       " (48, 311, 1),\n",
       " (48, 50, 2),\n",
       " (56, 95, 3),\n",
       " (50, 762, 2),\n",
       " (80, 102, 1),\n",
       " (134, 784, 5),\n",
       " (35, 253, 1),\n",
       " (56, 181, 1),\n",
       " (56, 311, 4),\n",
       " (601, 709, 22),\n",
       " (194, 662, 16),\n",
       " (448, 603, 1),\n",
       " (102, 771, 2),\n",
       " (123, 335, 1),\n",
       " (223, 939, 12),\n",
       " (119, 150, 1),\n",
       " (211, 751, 2),\n",
       " (123, 194, 1),\n",
       " (134, 265, 1),\n",
       " (116, 134, 1),\n",
       " (134, 804, 1),\n",
       " (134, 184, 14),\n",
       " (134, 268, 1),\n",
       " (134, 751, 9),\n",
       " (184, 196, 1),\n",
       " (184, 194, 1),\n",
       " (134, 662, 1),\n",
       " (223, 662, 2),\n",
       " (184, 223, 1),\n",
       " (39, 184, 1),\n",
       " (105, 267, 3),\n",
       " (267, 513, 1),\n",
       " (265, 273, 1),\n",
       " (533, 601, 18),\n",
       " (499, 533, 6),\n",
       " (39, 194, 19),\n",
       " (95, 765, 2),\n",
       " (80, 431, 1),\n",
       " (116, 751, 2),\n",
       " (265, 268, 2),\n",
       " (134, 431, 9),\n",
       " (431, 784, 2),\n",
       " (50, 134, 2),\n",
       " (116, 267, 1),\n",
       " (56, 105, 1),\n",
       " (56, 267, 5),\n",
       " (95, 267, 2),\n",
       " (95, 939, 2),\n",
       " (132, 194, 14),\n",
       " (120, 132, 16),\n",
       " (132, 662, 4),\n",
       " (120, 194, 28),\n",
       " (120, 662, 6),\n",
       " (39, 662, 8),\n",
       " (113, 662, 1),\n",
       " (132, 603, 1),\n",
       " (102, 223, 1),\n",
       " (431, 875, 2),\n",
       " (784, 875, 1),\n",
       " (209, 771, 1),\n",
       " (181, 194, 1),\n",
       " (120, 181, 1),\n",
       " (194, 939, 1),\n",
       " (56, 272, 2),\n",
       " (56, 172, 1),\n",
       " (120, 987, 1),\n",
       " (56, 132, 3),\n",
       " (131, 205, 1),\n",
       " (275, 431, 26),\n",
       " (80, 172, 1),\n",
       " (131, 311, 3),\n",
       " (95, 113, 1),\n",
       " (39, 181, 1),\n",
       " (533, 709, 1),\n",
       " (119, 134, 1),\n",
       " (181, 223, 1),\n",
       " (272, 603, 1),\n",
       " (119, 492, 1),\n",
       " (116, 771, 1),\n",
       " (56, 778, 1),\n",
       " (35, 265, 1),\n",
       " (35, 268, 3),\n",
       " (116, 311, 2),\n",
       " (499, 601, 1),\n",
       " (267, 662, 1),\n",
       " (196, 267, 2),\n",
       " (131, 875, 1),\n",
       " (134, 275, 1),\n",
       " (35, 185, 1),\n",
       " (132, 496, 1),\n",
       " (15, 267, 1),\n",
       " (63, 533, 2),\n",
       " (95, 494, 1),\n",
       " (50, 119, 6),\n",
       " (119, 771, 9),\n",
       " (185, 273, 15),\n",
       " (481, 533, 1),\n",
       " (39, 272, 1),\n",
       " (39, 751, 1),\n",
       " (131, 845, 18)]"
      ]
     },
     "execution_count": 20,
     "metadata": {},
     "output_type": "execute_result"
    }
   ],
   "source": [
    "data_tuple[0]"
   ]
  },
  {
   "cell_type": "markdown",
   "id": "ef400267",
   "metadata": {},
   "source": [
    "3. Create three undirected weighted networks with no multi-edges."
   ]
  },
  {
   "cell_type": "code",
   "execution_count": 21,
   "id": "7dc1c3c5",
   "metadata": {},
   "outputs": [],
   "source": [
    "def get_network(data_tuple):\n",
    "    '''\n",
    "    Input: \n",
    "        data_tuple: a list of three preprocessed datasets in the form of tuple: (ID1, ID2, weight).\n",
    "    Output: \n",
    "        G_list: a list of three undirected weighted networks.\n",
    "    '''\n",
    "    \n",
    "    G_list = []\n",
    "    \n",
    "    for data_tuple_p in data_tuple:\n",
    "        G_p = nx.Graph()\n",
    "        G_p.add_nodes_from(set(individuals)) # Each individual is represented as a node in a graph\n",
    "        G_p.add_weighted_edges_from(data_tuple_p)\n",
    "        \n",
    "        G_list.append(G_p)\n",
    "    \n",
    "    return G_list"
   ]
  },
  {
   "cell_type": "code",
   "execution_count": 22,
   "id": "b987971f",
   "metadata": {},
   "outputs": [],
   "source": [
    "G_list = get_network(data_tuple)\n",
    "G1, G2, G3 = G_list"
   ]
  },
  {
   "cell_type": "code",
   "execution_count": 23,
   "id": "c1216a84",
   "metadata": {},
   "outputs": [
    {
     "name": "stdout",
     "output_type": "stream",
     "text": [
      "G1:  Graph with 92 nodes and 476 edges   total number of contact links (weight sum): 3994\n",
      "G2:  Graph with 92 nodes and 217 edges   total number of contact links (weight sum): 1647\n",
      "G3:  Graph with 92 nodes and 389 edges   total number of contact links (weight sum): 4186\n"
     ]
    }
   ],
   "source": [
    "text = ['G1: ', 'G2: ', 'G3: ']\n",
    "for i in range(3):\n",
    "    G = G_list[i]\n",
    "    print(text[i], nx.info(G), '  total number of contact links (weight sum):', np.sum(list(nx.get_edge_attributes(G, 'weight').values())))"
   ]
  },
  {
   "cell_type": "markdown",
   "id": "dc24d2d0",
   "metadata": {},
   "source": [
    "# Community Structure - Modularity Maximisation"
   ]
  },
  {
   "cell_type": "markdown",
   "id": "b59df80f",
   "metadata": {},
   "source": [
    "Here we employ **modularity maximisation via Louvain algorithm** to detect community structures, focusing solely on graph **G1** as an example. Although G1 is an undirected and weighted graph, **in principle, one can apply modularity maximization to both directed and undirected graphs, regardless of weight.**"
   ]
  },
  {
   "cell_type": "markdown",
   "id": "cef9146d",
   "metadata": {},
   "source": [
    "## Primary Function from NetworkX"
   ]
  },
  {
   "cell_type": "markdown",
   "id": "7c4ce5fb",
   "metadata": {},
   "source": [
    "The primary function for this particular community detection method is readily accessible within NetworkX, and comprehensive details are documented [here](https://networkx.org/documentation/stable/reference/algorithms/generated/networkx.algorithms.community.louvain.louvain_communities.html). \n",
    "\n",
    "In short, there are $5$ variables that can be controlled, with graph G being the required input, and the remaining variables being optional with default values. \n",
    "```python\n",
    "nx_comm.louvain_communities(G, weight = 'weight', resolution = 1, threshold = 1e-07, seed = None)\n",
    "```\n",
    "\n",
    "Assuming successful execution, this function will yield a list of sets, each of which comprises nodes belonging to the same community. It should be noted that \n",
    "- **Permutation**: the \"set\" data structure does not allow permutations, and the order of sets in the list is randomized through a shuffle process.\n",
    "- **Stochasticity**: this method involves stochasticity, where each possible outcome (may or may not be distinct) is associated with a specific seed value. If the input does not include a seed value, the resulting output will exhibit some degree of randomness."
   ]
  },
  {
   "cell_type": "code",
   "execution_count": 24,
   "id": "8a1b89cc",
   "metadata": {},
   "outputs": [
    {
     "data": {
      "text/plain": [
       "[{63, 116, 481, 709},\n",
       " {87},\n",
       " {15,\n",
       "  56,\n",
       "  79,\n",
       "  95,\n",
       "  123,\n",
       "  132,\n",
       "  164,\n",
       "  181,\n",
       "  194,\n",
       "  196,\n",
       "  205,\n",
       "  222,\n",
       "  223,\n",
       "  253,\n",
       "  267,\n",
       "  272,\n",
       "  311,\n",
       "  496,\n",
       "  603,\n",
       "  662,\n",
       "  779,\n",
       "  819,\n",
       "  939,\n",
       "  987},\n",
       " {119, 122, 150, 153, 154, 271, 448, 492, 499, 533, 601},\n",
       " {213},\n",
       " {743},\n",
       " {35,\n",
       "  118,\n",
       "  131,\n",
       "  134,\n",
       "  184,\n",
       "  185,\n",
       "  210,\n",
       "  211,\n",
       "  240,\n",
       "  265,\n",
       "  268,\n",
       "  273,\n",
       "  275,\n",
       "  431,\n",
       "  511,\n",
       "  751,\n",
       "  778,\n",
       "  784,\n",
       "  804,\n",
       "  826,\n",
       "  845,\n",
       "  938},\n",
       " {29, 39, 80, 105, 113, 120, 172, 242, 494, 513, 765, 786},\n",
       " {255},\n",
       " {791},\n",
       " {17, 21, 48, 50, 66, 101, 102, 179, 209, 285, 335, 762, 771, 875}]"
      ]
     },
     "execution_count": 24,
     "metadata": {},
     "output_type": "execute_result"
    }
   ],
   "source": [
    "import networkx.algorithms.community as nx_comm\n",
    "G1_comm = nx_comm.louvain_communities(G1)\n",
    "G1_comm"
   ]
  },
  {
   "cell_type": "markdown",
   "id": "c154984f",
   "metadata": {},
   "source": [
    "## Result Visualisation through the Permuted Adjacency Matrix"
   ]
  },
  {
   "cell_type": "markdown",
   "id": "20118f3f",
   "metadata": {},
   "source": [
    "To enhance the interpretability of the community detection results, we rearrange the nodes of graph G1 to form clusters of nodes within the same community. The order of these clusters is determined based on their size, with larger clusters appearing first in the sequence. We then construct the corresponding adjacency matrix and present it visually."
   ]
  },
  {
   "cell_type": "markdown",
   "id": "99127653",
   "metadata": {},
   "source": [
    "1. **Generate a new graph** that maintains the coherence of the input graph G, wherein nodes are rearranged to represent clusters of nodes within the corresponding community. The clusters are organized in descending order based on their size."
   ]
  },
  {
   "cell_type": "code",
   "execution_count": 25,
   "id": "29819b47",
   "metadata": {},
   "outputs": [],
   "source": [
    "def rearrange_graph(G, comm):\n",
    "    '''\n",
    "    Input: \n",
    "        G: (un)directed (un)weighted graph\n",
    "        comm: a list of sets, each of which comprises nodes belonging to the same community\n",
    "    Output: \n",
    "        G_perm: it maintains the coherence of the input graph G, wherein nodes are rearranged to represent clusters of nodes within the corresponding community\n",
    "    '''\n",
    "    # Initialise an empty new graph with the same type as G\n",
    "    G_perm = G.copy(); G_perm.clear() \n",
    "    \n",
    "    # Arrange the sets in the comm list in a descending order based on the size of each set\n",
    "    comm_copy = comm.copy(); # retain the input \"comm\"\n",
    "    comm_copy.sort(key=len, reverse = True) \n",
    "    \n",
    "    # Add nodes\n",
    "    for comm_set in comm_copy:\n",
    "        G_perm.add_nodes_from(list(comm_set))\n",
    "    \n",
    "    # Add edges\n",
    "    for edge in G.edges.data():\n",
    "        G_perm.add_edges_from([edge])\n",
    "        \n",
    "    return G_perm"
   ]
  },
  {
   "cell_type": "code",
   "execution_count": 26,
   "id": "096af021",
   "metadata": {},
   "outputs": [],
   "source": [
    "G_perm = rearrange_graph(G1, G1_comm)"
   ]
  },
  {
   "cell_type": "code",
   "execution_count": 27,
   "id": "f7f4b179",
   "metadata": {},
   "outputs": [
    {
     "data": {
      "text/plain": [
       "NodeView((194, 132, 196, 779, 267, 205, 15, 79, 272, 662, 987, 603, 222, 95, 223, 164, 939, 496, 819, 181, 311, 56, 123, 253, 131, 134, 265, 778, 268, 845, 784, 273, 210, 211, 275, 35, 804, 938, 751, 240, 431, 118, 184, 185, 826, 511, 66, 771, 101, 102, 875, 335, 48, 209, 50, 17, 179, 21, 762, 285, 513, 39, 105, 172, 494, 80, 113, 786, 242, 29, 120, 765, 448, 153, 154, 492, 271, 499, 533, 150, 119, 601, 122, 481, 116, 709, 63, 87, 213, 743, 255, 791))"
      ]
     },
     "execution_count": 27,
     "metadata": {},
     "output_type": "execute_result"
    }
   ],
   "source": [
    "G_perm.nodes"
   ]
  },
  {
   "cell_type": "markdown",
   "id": "72a5cc52",
   "metadata": {},
   "source": [
    "2. **Compute permuted adjacency matrix**: We have further designed a function that returns the permuted adjacency matrix directly for ease of use."
   ]
  },
  {
   "cell_type": "code",
   "execution_count": 28,
   "id": "0e0e0ff0",
   "metadata": {},
   "outputs": [],
   "source": [
    "def compute_perm_adj(G, comm):\n",
    "    '''\n",
    "    Input:\n",
    "        G: (un)directed (un)weighted graph\n",
    "        comm: a list of sets, each of which comprises nodes belonging to the same community\n",
    "    Output:\n",
    "        A_perm: permuted adjacency matrix\n",
    "    '''\n",
    "    G_perm = rearrange_graph(G, comm)\n",
    "    A_perm = nx.adjacency_matrix(G_perm).todense()\n",
    "    \n",
    "    return A_perm"
   ]
  },
  {
   "cell_type": "code",
   "execution_count": 29,
   "id": "da302b07",
   "metadata": {},
   "outputs": [],
   "source": [
    "A_perm = compute_perm_adj(G1, G1_comm)"
   ]
  },
  {
   "cell_type": "code",
   "execution_count": 30,
   "id": "03178674",
   "metadata": {},
   "outputs": [
    {
     "data": {
      "text/plain": [
       "matrix([[ 0, 14,  0, ...,  0,  0,  0],\n",
       "        [14,  0,  0, ...,  0,  0,  0],\n",
       "        [ 0,  0,  0, ...,  0,  0,  0],\n",
       "        ...,\n",
       "        [ 0,  0,  0, ...,  0,  0,  0],\n",
       "        [ 0,  0,  0, ...,  0,  0,  0],\n",
       "        [ 0,  0,  0, ...,  0,  0,  0]])"
      ]
     },
     "execution_count": 30,
     "metadata": {},
     "output_type": "execute_result"
    }
   ],
   "source": [
    "A_perm"
   ]
  },
  {
   "cell_type": "markdown",
   "id": "47737ea4",
   "metadata": {},
   "source": [
    "3. **Visualisation**\n",
    "    - **Parameters**: There are a multitude of parameters that can be customized when plotting results, such as the title, font size and colormap. We encourage you to conduct some explorations on your own to become familiar with these options.\n",
    "\n",
    "    - **Log Transformation**: It should be noted that in the case of graph G1, the adjacency matrix not only represents the existence of edges but also the weight of each edge. As can be observed below, the range of weights is relatively large, making visualization through the normal scale of the colorbar difficult. Therefore, a log transformation is applied to the weight.\n",
    "    \n",
    "    - **\"LogNorm\" vs \"SymLogNorm\"**: Take a look at the distinction between \"LogNorm\" and \"SymLogNorm\" and try to understand why \"SymLogNorm\" is chosen in this particular case."
   ]
  },
  {
   "cell_type": "code",
   "execution_count": 31,
   "id": "b41e6d03",
   "metadata": {},
   "outputs": [],
   "source": [
    "import seaborn as sns\n",
    "from matplotlib.colors import LogNorm, SymLogNorm"
   ]
  },
  {
   "cell_type": "code",
   "execution_count": 32,
   "id": "d567a147",
   "metadata": {},
   "outputs": [],
   "source": [
    "A = nx.adjacency_matrix(G1).todense() # We also get the original adjacency matrix of G1 for comparison"
   ]
  },
  {
   "cell_type": "code",
   "execution_count": 33,
   "id": "e0b96efb",
   "metadata": {},
   "outputs": [
    {
     "data": {
      "text/plain": [
       "Text(0.5, 1.0, 'Permuted Adjacency Matrix - LogTransform')"
      ]
     },
     "execution_count": 33,
     "metadata": {},
     "output_type": "execute_result"
    },
    {
     "data": {
      "image/png": "[encoded data removed]",
      "text/plain": [
       "<Figure size 1000x800 with 8 Axes>"
      ]
     },
     "metadata": {},
     "output_type": "display_data"
    }
   ],
   "source": [
    "fig, axes = plt.subplots(2, 2, figsize = (10, 8))\n",
    "\n",
    "sns.heatmap(A, xticklabels = 0, yticklabels = 0, ax = axes[0,0], cbar_kws={'label': 'weight'})\n",
    "axes[0, 0].set_title('Original Adjacency Matrix')\n",
    "\n",
    "sns.heatmap(A_perm, xticklabels = 0, yticklabels = 0, ax = axes[0,1], cbar_kws={'label': 'weight'})\n",
    "axes[0, 1].set_title('Permuted Adjacency Matrix')\n",
    "\n",
    "sns.heatmap(A, xticklabels = 0, yticklabels = 0, ax = axes[1,0], norm = SymLogNorm(1), cbar_kws={'label': 'weight'})\n",
    "axes[1, 0].set_title('Original Adjacency Matrix - LogTransform')\n",
    "\n",
    "sns.heatmap(A_perm, xticklabels = 0, yticklabels = 0, ax = axes[1,1], norm = SymLogNorm(1), cbar_kws={'label': 'weight'})\n",
    "axes[1, 1].set_title('Permuted Adjacency Matrix - LogTransform')"
   ]
  },
  {
   "cell_type": "markdown",
   "id": "38cd8b5e",
   "metadata": {},
   "source": [
    "## Robustness Assessment "
   ]
  },
  {
   "cell_type": "markdown",
   "id": "763af446",
   "metadata": {},
   "source": [
    "Recall that this community detection method involves stochasticity, where each possible outcome (may or may not be distinct) is associated with a specific seed value. We will run community detection using different seed values and examine the similarity of each generated partition."
   ]
  },
  {
   "cell_type": "markdown",
   "id": "aca0e58e",
   "metadata": {},
   "source": [
    "### Compute Association Matrix"
   ]
  },
  {
   "cell_type": "markdown",
   "id": "0f5057a4",
   "metadata": {},
   "source": [
    "An association matrix is utilized to visualize the stochasticity of community detection.\n",
    "\n",
    "- **Each entry in the matrix** indicates the proportion of times two nodes are assigned to the same community across a specified number of community detection runs. The matrix's diagonal values are always assigned a value of 1.\n",
    "- **Nodes are rearranged** in accordance with the input community detection result, forming clusters of nodes within the same community. As per usual, the order of these clusters is determined based on their size, with larger clusters appearing first in the sequence."
   ]
  },
  {
   "cell_type": "markdown",
   "id": "7a5a3cbb",
   "metadata": {},
   "source": [
    "1. Compute an association matrix in a single run, where each entry is either 1 or 0. A value of 1 signifies that two nodes belong to the same community, while 0 denotes that they do not. As usual, the diagonal values of the matrix are always assigned a value of 1."
   ]
  },
  {
   "cell_type": "code",
   "execution_count": 34,
   "id": "8c971157",
   "metadata": {},
   "outputs": [],
   "source": [
    "def compute_asso_one_run(G, perm_comm, seed):\n",
    "    '''\n",
    "    We create an unweighted dummy graph. An edge is generated if two nodes are assigned to the same community when performing community detection in graph G. \n",
    "    \n",
    "    Input:\n",
    "        G: (un)directed (un)weighted graph\n",
    "        perm_comm: a list of sets, each of which comprises nodes belonging to the same community\n",
    "        seed: random seed\n",
    "    Output:\n",
    "        A_dummy: a matrix indicates whether two nodes are assigned to the same community\n",
    "    '''\n",
    "    \n",
    "    # community detection results\n",
    "    G_comm = nx_comm.louvain_communities(G, seed = seed) \n",
    "    # get a graph with permuted nodes but no edges\n",
    "    G_dummy = rearrange_graph(G, perm_comm); G_dummy.remove_edges_from(list(G_dummy.edges))\n",
    "    \n",
    "    for comm in G_comm:\n",
    "        comm = list(comm)\n",
    "        G_dummy_edges = [(a, b) for idx, a in enumerate(comm) for b in comm[idx + 0:]]\n",
    "        G_dummy.add_edges_from(G_dummy_edges)\n",
    "    A_dummy = nx.adjacency_matrix(G_dummy).todense()\n",
    "    \n",
    "    return A_dummy"
   ]
  },
  {
   "cell_type": "markdown",
   "id": "a918fbba",
   "metadata": {},
   "source": [
    "2. Aggregate all association matrices in a single run and then divide the resulting matrix by the number of runs."
   ]
  },
  {
   "cell_type": "code",
   "execution_count": 35,
   "id": "cf7b4191",
   "metadata": {},
   "outputs": [],
   "source": [
    "def compute_asso(G, comm, n_runs, perm = True):\n",
    "    '''\n",
    "    Input:\n",
    "        G: (un)directed (un)weighted graph\n",
    "        comm: a list of sets, each of which comprises nodes belonging to the same community\n",
    "        n_runs: the number of community detection runs\n",
    "        perm: whether to permute association matrix according to comm\n",
    "    Output:\n",
    "        A_asso: a matrix indicates the proportion of times two nodes are assigned to the same community\n",
    "    '''\n",
    "    \n",
    "    A_asso = np.zeros((len(G.nodes), len(G.nodes)))\n",
    "    \n",
    "    if perm:\n",
    "        for i in range(n_runs):\n",
    "            A_asso += compute_asso_one_run(G, comm, i)\n",
    "    else:\n",
    "        for i in range(n_runs):\n",
    "            A_asso += compute_asso_one_run(G, [set(G.nodes)], i)\n",
    "    A_asso /= n_runs\n",
    "    \n",
    "    return A_asso"
   ]
  },
  {
   "cell_type": "code",
   "execution_count": 36,
   "id": "5687f8cd",
   "metadata": {},
   "outputs": [],
   "source": [
    "n_runs = 100\n",
    "A_asso = compute_asso(G1, G1_comm, n_runs = n_runs, perm = False)\n",
    "A_perm_asso = compute_asso(G1, G1_comm, n_runs = n_runs)"
   ]
  },
  {
   "cell_type": "code",
   "execution_count": 37,
   "id": "74e09442",
   "metadata": {},
   "outputs": [
    {
     "data": {
      "text/plain": [
       "Text(0.5, 1.0, 'Permuted Association Matrix')"
      ]
     },
     "execution_count": 37,
     "metadata": {},
     "output_type": "execute_result"
    },
    {
     "data": {
      "image/png": "[encoded data removed]",
      "text/plain": [
       "<Figure size 1000x370 with 4 Axes>"
      ]
     },
     "metadata": {},
     "output_type": "display_data"
    }
   ],
   "source": [
    "fig, axes = plt.subplots(1, 2, figsize = (10, 3.7))\n",
    "\n",
    "sns.heatmap(A_asso, xticklabels = 0, yticklabels = 0, ax = axes[0])\n",
    "axes[0].set_title('Original Association Matrix')\n",
    "\n",
    "sns.heatmap(A_perm_asso, xticklabels = 0, yticklabels = 0, ax = axes[1])\n",
    "axes[1].set_title('Permuted Association Matrix')"
   ]
  },
  {
   "cell_type": "markdown",
   "id": "f305575f",
   "metadata": {},
   "source": [
    "### Compute NMI Matrix"
   ]
  },
  {
   "cell_type": "markdown",
   "id": "8e81763f",
   "metadata": {},
   "source": [
    "Here we check the similarity between different partitions using the normalized Mutual Information (nMI). Each value in the matrix represents the level of similarity between a pair of partition results, ranging from 0 to 1, where 1 means two partitions are entirely identical. See code documentation [here](https://scikit-learn.org/stable/modules/generated/sklearn.metrics.normalized_mutual_info_score.html).\n",
    "\n",
    "Note that one could consider several measures of partition similarity. Further details on similarity measures to compare partitions can be found in: [M. Meila. Comparing clusterings | an information based distance. Journal of Multivariate Analysis, 98(5):873--895, 2007.](https://www.sciencedirect.com/science/article/pii/S0047259X06002016)"
   ]
  },
  {
   "cell_type": "markdown",
   "id": "00a0092c",
   "metadata": {},
   "source": [
    "1. For each community detection, convert the partition result into a dictionary format of {node: label}, where each label is an integer, and nodes with the same label are assigned to the same community. The magnitude of the label is not significant; rather, what matters is whether nodes are assigned different labels or not."
   ]
  },
  {
   "cell_type": "code",
   "execution_count": 38,
   "id": "ea309c05",
   "metadata": {},
   "outputs": [],
   "source": [
    "def comm_detection_dict(G, seed):\n",
    "    '''\n",
    "    Input:\n",
    "        G: (un)directed (un)weighted graph\n",
    "        n_runs: the number of community detection runs\n",
    "    Output:\n",
    "        G_comm_dict: a dictionary format of {node: label}, where each label is an integer, and nodes with the same label are assigned to the same community.\n",
    "    '''\n",
    "    \n",
    "    G_comm = nx_comm.louvain_communities(G, seed = seed)\n",
    "    G_comm_dict = {node: 0 for node in G.nodes}\n",
    "    \n",
    "    index = 0\n",
    "    for comm in G_comm:\n",
    "        for node in comm:\n",
    "            G_comm_dict[node] = index\n",
    "        index += 1\n",
    "        \n",
    "    return G_comm_dict"
   ]
  },
  {
   "cell_type": "markdown",
   "id": "6a28b15d",
   "metadata": {},
   "source": [
    "2. Using the normalized Mutual Information (nMI) metric, calculate the level of similarity between each pair of partition results."
   ]
  },
  {
   "cell_type": "code",
   "execution_count": 39,
   "id": "4a4f1656",
   "metadata": {},
   "outputs": [],
   "source": [
    "import sklearn\n",
    "from sklearn import metrics\n",
    "\n",
    "def compute_nMI(G, n_runs):\n",
    "    '''\n",
    "    Input:\n",
    "        G: (un)directed (un)weighted graph\n",
    "        n_runs: the number of community detection runs\n",
    "    Output:\n",
    "        nMI_matrix: a matrix indicates the similarity between different partitions\n",
    "    '''\n",
    "    \n",
    "    # Obtain community results using different random seeds. Convert results to labels and save them in a numpy array.\n",
    "    n_runs_labels = []\n",
    "    for i in range(n_runs):\n",
    "        label = np.array(list(comm_detection_dict(G, seed = i).values()))\n",
    "        n_runs_labels.append(label)\n",
    "    n_runs_labels = np.array(n_runs_labels)\n",
    "    \n",
    "    # Calculate the level of dissimilarity between each pair of partition results using NMI\n",
    "    nMI_matrix = np.zeros((n_runs, n_runs))\n",
    "    for i in range(n_runs):\n",
    "        for j in range(n_runs):\n",
    "            nMI_matrix[i, j] = sklearn.metrics.normalized_mutual_info_score(n_runs_labels[i], n_runs_labels[j])\n",
    "    \n",
    "    return nMI_matrix"
   ]
  },
  {
   "cell_type": "code",
   "execution_count": 40,
   "id": "ffbf9397",
   "metadata": {},
   "outputs": [],
   "source": [
    "nMI_matrix = compute_nMI(G1, n_runs = 100)"
   ]
  },
  {
   "cell_type": "code",
   "execution_count": 41,
   "id": "aba2cb4b",
   "metadata": {},
   "outputs": [
    {
     "data": {
      "text/plain": [
       "Text(0.5, 1.0, 'nMI matrix')"
      ]
     },
     "execution_count": 41,
     "metadata": {},
     "output_type": "execute_result"
    },
    {
     "data": {
      "image/png": "[encoded data removed]",
      "text/plain": [
       "<Figure size 640x480 with 2 Axes>"
      ]
     },
     "metadata": {},
     "output_type": "display_data"
    }
   ],
   "source": [
    "sns.heatmap(nMI_matrix, xticklabels = 20, yticklabels = 20)\n",
    "plt.title('nMI matrix', fontsize = 20)"
   ]
  },
  {
   "cell_type": "markdown",
   "id": "7db95ccf",
   "metadata": {},
   "source": [
    "## Code Documentation [Optional]"
   ]
  },
  {
   "cell_type": "markdown",
   "id": "4fd7eb29",
   "metadata": {},
   "source": [
    "Ensure that the code is well-documented so that it will be easier for you to generate community detection results.\n",
    "\n",
    "You can refer to the [Modularity_Maximisation.py](Modularity_Maximisation.py) file which includes all the functions above for community detection using the Modularity Maximisation via the Louvain Algorithm. This file also enables additional parameters such as 'weight', 'resolution', 'threshold', and 'seed'. For instance, the \"resolution\" parameter has been reset to 0.5 (default value is 1) in this example."
   ]
  },
  {
   "cell_type": "code",
   "execution_count": 42,
   "id": "0939b0df",
   "metadata": {},
   "outputs": [],
   "source": [
    "import Modularity_Maximisation as MM"
   ]
  },
  {
   "cell_type": "code",
   "execution_count": 43,
   "id": "18d1afc2",
   "metadata": {},
   "outputs": [],
   "source": [
    "A2, A_perm2, A_asso2, A_perm_asso2, nMI_matrix2 = MM.aggregated_results(G1, n_runs = 100, resolution = 0.5)"
   ]
  },
  {
   "cell_type": "code",
   "execution_count": 44,
   "id": "5b3d429c",
   "metadata": {},
   "outputs": [
    {
     "data": {
      "text/plain": [
       "Text(0.5, 1.0, 'Permuted Adjacency Matrix - LogTransform')"
      ]
     },
     "execution_count": 44,
     "metadata": {},
     "output_type": "execute_result"
    },
    {
     "data": {
      "image/png": "[encoded data removed]",
      "text/plain": [
       "<Figure size 1000x800 with 8 Axes>"
      ]
     },
     "metadata": {},
     "output_type": "display_data"
    }
   ],
   "source": [
    "fig, axes = plt.subplots(2, 2, figsize = (10, 8))\n",
    "\n",
    "sns.heatmap(A2, xticklabels = 0, yticklabels = 0, ax = axes[0,0], cbar_kws={'label': 'weight'})\n",
    "axes[0, 0].set_title('Original Adjacency Matrix')\n",
    "\n",
    "sns.heatmap(A_perm2, xticklabels = 0, yticklabels = 0, ax = axes[0,1], cbar_kws={'label': 'weight'})\n",
    "axes[0, 1].set_title('Permuted Adjacency Matrix')\n",
    "\n",
    "sns.heatmap(A2, xticklabels = 0, yticklabels = 0, ax = axes[1,0], norm = SymLogNorm(1), cbar_kws={'label': 'weight'})\n",
    "axes[1, 0].set_title('Original Adjacency Matrix - LogTransform')\n",
    "\n",
    "sns.heatmap(A_perm2, xticklabels = 0, yticklabels = 0, ax = axes[1,1], norm = SymLogNorm(1), cbar_kws={'label': 'weight'})\n",
    "axes[1, 1].set_title('Permuted Adjacency Matrix - LogTransform')"
   ]
  },
  {
   "cell_type": "code",
   "execution_count": 45,
   "id": "eb45d72d",
   "metadata": {},
   "outputs": [
    {
     "data": {
      "text/plain": [
       "Text(0.5, 1.0, 'Permuted Association Matrix')"
      ]
     },
     "execution_count": 45,
     "metadata": {},
     "output_type": "execute_result"
    },
    {
     "data": {
      "image/png": "[encoded data removed]",
      "text/plain": [
       "<Figure size 1000x370 with 4 Axes>"
      ]
     },
     "metadata": {},
     "output_type": "display_data"
    }
   ],
   "source": [
    "fig, axes = plt.subplots(1, 2, figsize = (10, 3.7))\n",
    "\n",
    "sns.heatmap(A_asso2, xticklabels = 0, yticklabels = 0, ax = axes[0])\n",
    "axes[0].set_title('Original Association Matrix')\n",
    "\n",
    "sns.heatmap(A_perm_asso2, xticklabels = 0, yticklabels = 0, ax = axes[1])\n",
    "axes[1].set_title('Permuted Association Matrix')"
   ]
  },
  {
   "cell_type": "code",
   "execution_count": 46,
   "id": "ea27d18d",
   "metadata": {},
   "outputs": [
    {
     "data": {
      "text/plain": [
       "Text(0.5, 1.0, 'nMI matrix')"
      ]
     },
     "execution_count": 46,
     "metadata": {},
     "output_type": "execute_result"
    },
    {
     "data": {
      "image/png": "[encoded data removed]",
      "text/plain": [
       "<Figure size 640x480 with 2 Axes>"
      ]
     },
     "metadata": {},
     "output_type": "display_data"
    }
   ],
   "source": [
    "sns.heatmap(nMI_matrix2, xticklabels = 20, yticklabels = 20)\n",
    "plt.title('nMI matrix', fontsize = 20)"
   ]
  },
  {
   "cell_type": "markdown",
   "id": "a9dc385a",
   "metadata": {},
   "source": [
    "# Questions"
   ]
  },
  {
   "cell_type": "markdown",
   "id": "d0745329",
   "metadata": {},
   "source": [
    "Note that you are **not** expected to solve all questions as part of this support session. Start with Q1, then move on to those that interest you, and you can continue to think about some of them after the support class. "
   ]
  },
  {
   "cell_type": "markdown",
   "id": "76831f88",
   "metadata": {},
   "source": [
    "1. **Jupyter exploration**: Compile this Jupyter notebook and familiarise yourself with the different parts. Try to understand what each is doing. "
   ]
  },
  {
   "cell_type": "markdown",
   "id": "0ef5b7a5",
   "metadata": {},
   "source": [
    "2. **Preliminary questions**: \n",
    "    - Change the value of the resolution parameter in community detection and interpret the results.\n",
    "    - Apply the code to each temporal snapshot and visualize the communities using seaborn.\n",
    "    - Using a (or a few) measure(s) of partition similarity, quantify how much partitions change across different snapshots. (Note: You will see a way to visualize for this in the next support session.) "
   ]
  },
  {
   "cell_type": "markdown",
   "id": "b581470e",
   "metadata": {},
   "source": [
    "3. **Further questions**: \n",
    "- Change the network construction such that every snapshot contains 3 days of data and different snapshots overlap by 1 day. So snapshot 1 contains data from days 1, 2 and 3. Snapshot 2 contains data from days 2, 3, 4. etc.\n",
    "- How might you check whether the obtained communities are statistically significant?\n",
    "- How can you use the \"Hungarian Algorithm\" to compute the persistence between partitions induced on contiguous snapshots?"
   ]
  },
  {
   "cell_type": "markdown",
   "id": "79744f75",
   "metadata": {},
   "source": [
    "4. **Other Community Dection Methods**: \n",
    "There are (many) other community detection methods besides modularity maximisation. For instance, Infomap is a flow-based community detection method that has been extensively researched and documented, and is also suitable for both directed and undirected, as well as weighted and unweighted graphs. Further details are available [here](https://www.mapequation.org/infomap/). Try to download the package and experiment with it.\n",
    "    In fact, some of the functions we document for modularity maximisation may also be used for other community detection methods, such as \"Result Visualisation through the Permuted Adjacency Matrix\" and \"Robustness Assessment - Association Matrix & nMI Matrix\"."
   ]
  },
  {
   "cell_type": "code",
   "execution_count": null,
   "id": "19d25ff9",
   "metadata": {},
   "outputs": [],
   "source": []
  }
 ],
 "metadata": {
  "hide_input": false,
  "kernelspec": {
   "display_name": "Python 3 (ipykernel)",
   "language": "python",
   "name": "python3"
  },
  "language_info": {
   "codemirror_mode": {
    "name": "ipython",
    "version": 3
   },
   "file_extension": ".py",
   "mimetype": "text/x-python",
   "name": "python",
   "nbconvert_exporter": "python",
   "pygments_lexer": "ipython3",
   "version": "3.8.12"
  },
  "toc": {
   "base_numbering": 1,
   "nav_menu": {},
   "number_sections": true,
   "sideBar": true,
   "skip_h1_title": false,
   "title_cell": "Table of Contents",
   "title_sidebar": "Contents",
   "toc_cell": true,
   "toc_position": {},
   "toc_section_display": true,
   "toc_window_display": false
  }
 },
 "nbformat": 4,
 "nbformat_minor": 5
}
