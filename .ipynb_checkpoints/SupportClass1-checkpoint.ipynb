{
 "cells": [
  {
   "cell_type": "markdown",
   "id": "3088abcc",
   "metadata": {
    "toc": true
   },
   "source": [
    "<h1>Table of Contents<span class=\"tocSkip\"></span></h1>\n",
    "<div class=\"toc\"><ul class=\"toc-item\"><li><span><a href=\"#Process-Data-and-Create-Network\" data-toc-modified-id=\"Process-Data-and-Create-Network-1\"><span class=\"toc-item-num\">1&nbsp;&nbsp;</span>Process Data and Create Network</a></span><ul class=\"toc-item\"><li><span><a href=\"#Read-file-and-create-network-from-edgelist\" data-toc-modified-id=\"Read-file-and-create-network-from-edgelist-1.1\"><span class=\"toc-item-num\">1.1&nbsp;&nbsp;</span>Read file and create network from edgelist</a></span></li></ul></li></ul></div>"
   ]
  },
  {
   "cell_type": "markdown",
   "id": "9ff371c6",
   "metadata": {},
   "source": [
    "In these Jupyter notebooks, we mainly give examples using [Networkx](https://networkx.org/) alongside [Numpy](https://numpy.org/) for matrix and array operations, and [Pandas](https://pandas.pydata.org/) for processing Dataframes.\n",
    "\n",
    "If python packages are not available, try running pip install in the command line. For example, `pip install networkx`. It can sometimes also be useful to check any constraints on Python version compatibility. "
   ]
  },
  {
   "cell_type": "code",
   "execution_count": 2,
   "id": "9d1b15bb",
   "metadata": {},
   "outputs": [],
   "source": [
    "import networkx as nx\n",
    "\n",
    "import pandas as pd\n",
    "import numpy as np\n",
    "import matplotlib.pyplot as plt\n",
    "\n",
    "# This will filter warnings, which can be lengthy but sometimes useful. You may comment it out if you want to see them.\n",
    "import warnings\n",
    "warnings.filterwarnings('ignore')"
   ]
  },
  {
   "cell_type": "markdown",
   "id": "3920eef4",
   "metadata": {},
   "source": [
    "# Process Data and Create Network"
   ]
  },
  {
   "cell_type": "markdown",
   "id": "57cfd69a",
   "metadata": {},
   "source": [
    "## Read file and create network from edgelist"
   ]
  },
  {
   "cell_type": "markdown",
   "id": "657c19bd",
   "metadata": {},
   "source": [
    "You can find and download the Zachary karate club dataset used [here](http://konect.cc/networks/ucidata-zachary/).\n",
    "\n",
    "Have the download documents ready in the same folder of this jupyter notebook (can have it somewhere else, just pass the path of the files when input the data file)"
   ]
  },
  {
   "cell_type": "code",
   "execution_count": 1,
   "id": "7c67c975",
   "metadata": {},
   "outputs": [
    {
     "ename": "FileNotFoundError",
     "evalue": "[Errno 2] No such file or directory: 'out.ucidata-zachary'",
     "output_type": "error",
     "traceback": [
      "\u001b[0;31m---------------------------------------------------------------------------\u001b[0m",
      "\u001b[0;31mFileNotFoundError\u001b[0m                         Traceback (most recent call last)",
      "Cell \u001b[0;32mIn [1], line 1\u001b[0m\n\u001b[0;32m----> 1\u001b[0m fh \u001b[38;5;241m=\u001b[39m \u001b[38;5;28;43mopen\u001b[39;49m\u001b[43m(\u001b[49m\u001b[38;5;124;43m\"\u001b[39;49m\u001b[38;5;124;43mout.ucidata-zachary\u001b[39;49m\u001b[38;5;124;43m\"\u001b[39;49m\u001b[43m,\u001b[49m\u001b[43m \u001b[49m\u001b[38;5;124;43m\"\u001b[39;49m\u001b[38;5;124;43mrb\u001b[39;49m\u001b[38;5;124;43m\"\u001b[39;49m\u001b[43m)\u001b[49m       \u001b[38;5;66;03m# 'rb': open the file in binary format for reading\u001b[39;00m\n\u001b[1;32m      2\u001b[0m G \u001b[38;5;241m=\u001b[39m nx\u001b[38;5;241m.\u001b[39mread_edgelist(fh, comments\u001b[38;5;241m=\u001b[39m\u001b[38;5;124m'\u001b[39m\u001b[38;5;124m%\u001b[39m\u001b[38;5;124m'\u001b[39m,create_using\u001b[38;5;241m=\u001b[39mnx\u001b[38;5;241m.\u001b[39mDiGraph())   \n\u001b[1;32m      3\u001b[0m     \u001b[38;5;66;03m# comments='%': the character used to indicate the start of a comment.\u001b[39;00m\n\u001b[1;32m      4\u001b[0m     \u001b[38;5;66;03m# create_using=nx.DiGraph(): create a directed graph allowing self loops but not multiple edges.(default=nx.Graph)\u001b[39;00m\n",
      "File \u001b[0;32m~/anaconda3/lib/python3.8/site-packages/IPython/core/interactiveshell.py:282\u001b[0m, in \u001b[0;36m_modified_open\u001b[0;34m(file, *args, **kwargs)\u001b[0m\n\u001b[1;32m    275\u001b[0m \u001b[38;5;28;01mif\u001b[39;00m file \u001b[38;5;129;01min\u001b[39;00m {\u001b[38;5;241m0\u001b[39m, \u001b[38;5;241m1\u001b[39m, \u001b[38;5;241m2\u001b[39m}:\n\u001b[1;32m    276\u001b[0m     \u001b[38;5;28;01mraise\u001b[39;00m \u001b[38;5;167;01mValueError\u001b[39;00m(\n\u001b[1;32m    277\u001b[0m         \u001b[38;5;124mf\u001b[39m\u001b[38;5;124m\"\u001b[39m\u001b[38;5;124mIPython won\u001b[39m\u001b[38;5;124m'\u001b[39m\u001b[38;5;124mt let you open fd=\u001b[39m\u001b[38;5;132;01m{\u001b[39;00mfile\u001b[38;5;132;01m}\u001b[39;00m\u001b[38;5;124m by default \u001b[39m\u001b[38;5;124m\"\u001b[39m\n\u001b[1;32m    278\u001b[0m         \u001b[38;5;124m\"\u001b[39m\u001b[38;5;124mas it is likely to crash IPython. If you know what you are doing, \u001b[39m\u001b[38;5;124m\"\u001b[39m\n\u001b[1;32m    279\u001b[0m         \u001b[38;5;124m\"\u001b[39m\u001b[38;5;124myou can use builtins\u001b[39m\u001b[38;5;124m'\u001b[39m\u001b[38;5;124m open.\u001b[39m\u001b[38;5;124m\"\u001b[39m\n\u001b[1;32m    280\u001b[0m     )\n\u001b[0;32m--> 282\u001b[0m \u001b[38;5;28;01mreturn\u001b[39;00m \u001b[43mio_open\u001b[49m\u001b[43m(\u001b[49m\u001b[43mfile\u001b[49m\u001b[43m,\u001b[49m\u001b[43m \u001b[49m\u001b[38;5;241;43m*\u001b[39;49m\u001b[43margs\u001b[49m\u001b[43m,\u001b[49m\u001b[43m \u001b[49m\u001b[38;5;241;43m*\u001b[39;49m\u001b[38;5;241;43m*\u001b[39;49m\u001b[43mkwargs\u001b[49m\u001b[43m)\u001b[49m\n",
      "\u001b[0;31mFileNotFoundError\u001b[0m: [Errno 2] No such file or directory: 'out.ucidata-zachary'"
     ]
    }
   ],
   "source": [
    "fh = open(\"out.ucidata-zachary\", \"rb\")       # 'rb': open the file in binary format for reading\n",
    "G = nx.read_edgelist(fh, comments='%',create_using=nx.DiGraph())   \n",
    "    # comments='%': the character used to indicate the start of a comment.\n",
    "    # create_using=nx.DiGraph(): create a directed graph allowing self loops but not multiple edges.(default=nx.Graph)\n",
    "fh.close()"
   ]
  },
  {
   "cell_type": "code",
   "execution_count": null,
   "id": "715d44c7",
   "metadata": {},
   "outputs": [],
   "source": []
  }
 ],
 "metadata": {
  "hide_input": false,
  "kernelspec": {
   "display_name": "Python 3 (ipykernel)",
   "language": "python",
   "name": "python3"
  },
  "language_info": {
   "codemirror_mode": {
    "name": "ipython",
    "version": 3
   },
   "file_extension": ".py",
   "mimetype": "text/x-python",
   "name": "python",
   "nbconvert_exporter": "python",
   "pygments_lexer": "ipython3",
   "version": "3.8.12"
  },
  "toc": {
   "base_numbering": 1,
   "nav_menu": {},
   "number_sections": true,
   "sideBar": true,
   "skip_h1_title": false,
   "title_cell": "Table of Contents",
   "title_sidebar": "Contents",
   "toc_cell": true,
   "toc_position": {},
   "toc_section_display": true,
   "toc_window_display": false
  }
 },
 "nbformat": 4,
 "nbformat_minor": 5
}
